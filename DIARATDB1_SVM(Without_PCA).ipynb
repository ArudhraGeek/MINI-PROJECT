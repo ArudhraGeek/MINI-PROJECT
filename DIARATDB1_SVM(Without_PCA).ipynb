{
  "nbformat": 4,
  "nbformat_minor": 0,
  "metadata": {
    "kernelspec": {
      "display_name": "Python 3",
      "language": "python",
      "name": "python3"
    },
    "language_info": {
      "codemirror_mode": {
        "name": "ipython",
        "version": 3
      },
      "file_extension": ".py",
      "mimetype": "text/x-python",
      "name": "python",
      "nbconvert_exporter": "python",
      "pygments_lexer": "ipython3",
      "version": "3.8.3"
    },
    "colab": {
      "name": "DIARATDB1 SVM(Without PCA).ipynb",
      "provenance": [],
      "include_colab_link": true
    }
  },
  "cells": [
    {
      "cell_type": "markdown",
      "metadata": {
        "id": "view-in-github",
        "colab_type": "text"
      },
      "source": [
        "<a href=\"https://colab.research.google.com/github/ArudhraGeek/MINI-PROJECT/blob/master/DIARATDB1_SVM(Without_PCA).ipynb\" target=\"_parent\"><img src=\"https://colab.research.google.com/assets/colab-badge.svg\" alt=\"Open In Colab\"/></a>"
      ]
    },
    {
      "cell_type": "code",
      "metadata": {
        "id": "zd3u4IpKETCh"
      },
      "source": [
        "from keras.preprocessing.image import ImageDataGenerator, img_to_array\n",
        "from keras.optimizers import Adam\n",
        "from sklearn.preprocessing import LabelBinarizer\n",
        "from sklearn.model_selection import train_test_split\n",
        "from imutils import paths\n",
        "import numpy as np\n",
        "import os\n",
        "import cv2\n",
        "import random"
      ],
      "execution_count": null,
      "outputs": []
    },
    {
      "cell_type": "code",
      "metadata": {
        "id": "dgzL1q1QETCk"
      },
      "source": [
        "rootpath = \"D:\\\\DirectDB patches new\""
      ],
      "execution_count": null,
      "outputs": []
    },
    {
      "cell_type": "code",
      "metadata": {
        "id": "WLmyIbf0ETCn"
      },
      "source": [
        "data = []                       \n",
        "classes = []                   \n",
        "imagepaths = sorted(list(paths.list_images(rootpath)))   \n",
        "random.seed(42)\n",
        "random.shuffle(imagepaths)\n",
        "for imgpath in imagepaths:\n",
        "    try:\n",
        "        image = cv2.imread(imgpath)\n",
        "        image_array = img_to_array(image)    \n",
        "        data.append(image_array)\n",
        "        label = imgpath.split(os.path.sep)[-2]\n",
        "        classes.append(label)\n",
        "    except Exception as e:\n",
        "        print(e)\n",
        "\n",
        "data = np.array(data,dtype='float')/255.0\n",
        "labels = np.array(classes)\n",
        "lb = LabelBinarizer()\n",
        "labels = lb.fit_transform(labels)"
      ],
      "execution_count": null,
      "outputs": []
    },
    {
      "cell_type": "code",
      "metadata": {
        "id": "tR9pefWRETCq",
        "outputId": "739239ec-3356-4049-82da-83ca87632727"
      },
      "source": [
        "len(data)"
      ],
      "execution_count": null,
      "outputs": [
        {
          "output_type": "execute_result",
          "data": {
            "text/plain": [
              "1780"
            ]
          },
          "metadata": {
            "tags": []
          },
          "execution_count": 6
        }
      ]
    },
    {
      "cell_type": "code",
      "metadata": {
        "id": "KR5rN0zGETCu",
        "outputId": "b8b93f7c-16e4-4b70-b2e4-47f7dbaaf583"
      },
      "source": [
        "data=np.asarray(data)\n",
        "classes=np.asarray(labels)\n",
        "from sklearn.utils import shuffle\n",
        "Data,Label= shuffle(data,classes, random_state=42)\n",
        "train_data=[Data,Label]\n",
        "type(train_data)"
      ],
      "execution_count": null,
      "outputs": [
        {
          "output_type": "execute_result",
          "data": {
            "text/plain": [
              "list"
            ]
          },
          "metadata": {
            "tags": []
          },
          "execution_count": 7
        }
      ]
    },
    {
      "cell_type": "code",
      "metadata": {
        "id": "NRHA4vvvETCx"
      },
      "source": [
        "(X, y) = (train_data[0],train_data[1]) "
      ],
      "execution_count": null,
      "outputs": []
    },
    {
      "cell_type": "code",
      "metadata": {
        "id": "BF2RRK8yETCz",
        "outputId": "a9446dd2-5ac7-4263-d35c-1b18e9f64eb6"
      },
      "source": [
        "from sklearn.model_selection import train_test_split\n",
        "\n",
        "X_train, X_test, y_train, y_test = train_test_split(X, y, test_size=0.3, random_state=42)\n",
        "\n",
        "print(X_train.shape)\n",
        "print(X_test.shape)\n",
        "\n",
        "X_train = X_train.reshape(X_train.shape[0],3*400*400)\n",
        "X_test = X_test.reshape(X_test.shape[0],3*400*400)\n",
        "\n",
        "X_train = X_train.astype('float32')\n",
        "X_test = X_test.astype('float32')\n",
        "\n",
        "X_train /= 255\n",
        "X_test /= 255\n",
        "\n",
        "print('X_train shape:', X_train.shape)\n",
        "print(X_train.shape[0], 'train samples')\n",
        "print(X_test.shape[0], 'test samples')"
      ],
      "execution_count": null,
      "outputs": [
        {
          "output_type": "stream",
          "text": [
            "(1246, 400, 400, 3)\n",
            "(534, 400, 400, 3)\n",
            "X_train shape: (1246, 480000)\n",
            "1246 train samples\n",
            "534 test samples\n"
          ],
          "name": "stdout"
        }
      ]
    },
    {
      "cell_type": "code",
      "metadata": {
        "id": "zDIcQknvETC2",
        "outputId": "2a9d38b7-bbd7-4499-ce03-d143242e4587"
      },
      "source": [
        "from sklearn.svm import SVC\n",
        "svl = SVC()\n",
        "svl.fit(X_train,y_train)"
      ],
      "execution_count": null,
      "outputs": [
        {
          "output_type": "stream",
          "text": [
            "D:\\anaconda\\lib\\site-packages\\sklearn\\utils\\validation.py:73: DataConversionWarning: A column-vector y was passed when a 1d array was expected. Please change the shape of y to (n_samples, ), for example using ravel().\n",
            "  return f(**kwargs)\n"
          ],
          "name": "stderr"
        },
        {
          "output_type": "execute_result",
          "data": {
            "text/plain": [
              "SVC()"
            ]
          },
          "metadata": {
            "tags": []
          },
          "execution_count": 20
        }
      ]
    },
    {
      "cell_type": "code",
      "metadata": {
        "id": "n_Xouf9bETC4"
      },
      "source": [
        "y_pred = svl.predict(X_test)"
      ],
      "execution_count": null,
      "outputs": []
    },
    {
      "cell_type": "code",
      "metadata": {
        "id": "876k3Id9ETC6",
        "outputId": "8857f0a9-5643-4e6f-9917-02997383fe91"
      },
      "source": [
        "from sklearn.metrics import accuracy_score,f1_score\n",
        "print(accuracy_score(y_test,y_pred))"
      ],
      "execution_count": null,
      "outputs": [
        {
          "output_type": "stream",
          "text": [
            "0.951310861423221\n"
          ],
          "name": "stdout"
        }
      ]
    },
    {
      "cell_type": "code",
      "metadata": {
        "id": "bSi4ZlwyETC-",
        "outputId": "eff42857-9edf-4b06-d8b4-256046385878"
      },
      "source": [
        "print(f1_score(y_test, y_pred, average='weighted'))"
      ],
      "execution_count": null,
      "outputs": [
        {
          "output_type": "stream",
          "text": [
            "0.9275737382015282\n"
          ],
          "name": "stdout"
        }
      ]
    }
  ]
}