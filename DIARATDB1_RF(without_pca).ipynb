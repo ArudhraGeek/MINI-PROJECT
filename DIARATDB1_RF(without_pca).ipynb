{
  "nbformat": 4,
  "nbformat_minor": 0,
  "metadata": {
    "kernelspec": {
      "display_name": "Python 3",
      "language": "python",
      "name": "python3"
    },
    "language_info": {
      "codemirror_mode": {
        "name": "ipython",
        "version": 3
      },
      "file_extension": ".py",
      "mimetype": "text/x-python",
      "name": "python",
      "nbconvert_exporter": "python",
      "pygments_lexer": "ipython3",
      "version": "3.8.3"
    },
    "colab": {
      "name": "DIARATDB1 RF(without pca).ipynb",
      "provenance": [],
      "include_colab_link": true
    }
  },
  "cells": [
    {
      "cell_type": "markdown",
      "metadata": {
        "id": "view-in-github",
        "colab_type": "text"
      },
      "source": [
        "<a href=\"https://colab.research.google.com/github/ArudhraGeek/MINI-PROJECT/blob/master/DIARATDB1_RF(without_pca).ipynb\" target=\"_parent\"><img src=\"https://colab.research.google.com/assets/colab-badge.svg\" alt=\"Open In Colab\"/></a>"
      ]
    },
    {
      "cell_type": "code",
      "metadata": {
        "id": "U283EI3Ad4mi"
      },
      "source": [
        "from keras.preprocessing.image import ImageDataGenerator, img_to_array\n",
        "from keras.optimizers import Adam\n",
        "from sklearn.preprocessing import LabelBinarizer\n",
        "from sklearn.model_selection import train_test_split\n",
        "from imutils import paths\n",
        "import numpy as np\n",
        "import os\n",
        "import cv2\n",
        "import random"
      ],
      "execution_count": null,
      "outputs": []
    },
    {
      "cell_type": "code",
      "metadata": {
        "id": "ugSH7VjVd4ml"
      },
      "source": [
        "rootpath = \"D:\\\\DirectDB patches new\""
      ],
      "execution_count": null,
      "outputs": []
    },
    {
      "cell_type": "code",
      "metadata": {
        "id": "0Yg95O9Vd4mo"
      },
      "source": [
        "data = []                       \n",
        "classes = []                   \n",
        "imagepaths = sorted(list(paths.list_images(rootpath)))   \n",
        "random.seed(42)\n",
        "random.shuffle(imagepaths)\n",
        "for imgpath in imagepaths:\n",
        "    try:\n",
        "        image = cv2.imread(imgpath)\n",
        "        image_array = img_to_array(image)    \n",
        "        data.append(image_array)\n",
        "        label = imgpath.split(os.path.sep)[-2]\n",
        "        classes.append(label)\n",
        "    except Exception as e:\n",
        "        print(e)\n",
        "\n",
        "data = np.array(data,dtype='float')/255.0\n",
        "labels = np.array(classes)\n",
        "lb = LabelBinarizer()\n",
        "labels = lb.fit_transform(labels)"
      ],
      "execution_count": null,
      "outputs": []
    },
    {
      "cell_type": "code",
      "metadata": {
        "id": "9_MeqRzWd4mq",
        "outputId": "68a06a96-7d46-47cf-a4e9-5554991e074d"
      },
      "source": [
        "len(data)"
      ],
      "execution_count": null,
      "outputs": [
        {
          "output_type": "execute_result",
          "data": {
            "text/plain": [
              "1780"
            ]
          },
          "metadata": {
            "tags": []
          },
          "execution_count": 4
        }
      ]
    },
    {
      "cell_type": "code",
      "metadata": {
        "id": "I1oHL3jtd4mt",
        "outputId": "5c642c03-2e4e-45fe-8847-66a4488fa352"
      },
      "source": [
        "data=np.asarray(data)\n",
        "classes=np.asarray(labels)\n",
        "from sklearn.utils import shuffle\n",
        "Data,Label= shuffle(data,classes, random_state=2)\n",
        "train_data=[Data,Label]\n",
        "type(train_data)"
      ],
      "execution_count": null,
      "outputs": [
        {
          "output_type": "execute_result",
          "data": {
            "text/plain": [
              "list"
            ]
          },
          "metadata": {
            "tags": []
          },
          "execution_count": 5
        }
      ]
    },
    {
      "cell_type": "code",
      "metadata": {
        "id": "ukUaFGvSd4mv"
      },
      "source": [
        "(X, y) = (train_data[0],train_data[1]) "
      ],
      "execution_count": null,
      "outputs": []
    },
    {
      "cell_type": "code",
      "metadata": {
        "id": "LXnOX1xTd4mx",
        "outputId": "5fc4b80c-f90a-46ab-bfe1-ceef5207a44d"
      },
      "source": [
        "from sklearn.model_selection import train_test_split\n",
        "\n",
        "X_train, X_test, y_train, y_test = train_test_split(X, y, test_size=0.2, random_state=0)\n",
        "\n",
        "print(X_train.shape)\n",
        "print(X_test.shape)\n",
        "\n",
        "X_train = X_train.reshape(X_train.shape[0],3*400*400)\n",
        "X_test = X_test.reshape(X_test.shape[0],3*400*400)\n",
        "\n",
        "X_train = X_train.astype('float32')\n",
        "X_test = X_test.astype('float32')\n",
        "\n",
        "X_train /= 255\n",
        "X_test /= 255\n",
        "\n",
        "print('X_train shape:', X_train.shape)\n",
        "print(X_train.shape[0], 'train samples')\n",
        "print(X_test.shape[0], 'test samples')"
      ],
      "execution_count": null,
      "outputs": [
        {
          "output_type": "stream",
          "text": [
            "(1424, 400, 400, 3)\n",
            "(356, 400, 400, 3)\n",
            "X_train shape: (1424, 480000)\n",
            "1424 train samples\n",
            "356 test samples\n"
          ],
          "name": "stdout"
        }
      ]
    },
    {
      "cell_type": "code",
      "metadata": {
        "id": "kkLw45Azd4m0",
        "outputId": "edbb91da-4672-45b5-a7a7-8f060132d46c"
      },
      "source": [
        "from sklearn.ensemble import RandomForestClassifier\n",
        "clf = RandomForestClassifier(n_estimators=25)\n",
        "clf.fit(X_train, y_train)"
      ],
      "execution_count": null,
      "outputs": [
        {
          "output_type": "stream",
          "text": [
            "<ipython-input-8-a0ca40fb90fa>:3: DataConversionWarning: A column-vector y was passed when a 1d array was expected. Please change the shape of y to (n_samples,), for example using ravel().\n",
            "  clf.fit(X_train, y_train)\n"
          ],
          "name": "stderr"
        },
        {
          "output_type": "execute_result",
          "data": {
            "text/plain": [
              "RandomForestClassifier(n_estimators=25)"
            ]
          },
          "metadata": {
            "tags": []
          },
          "execution_count": 8
        }
      ]
    },
    {
      "cell_type": "code",
      "metadata": {
        "id": "vRVKCaaQd4m2",
        "outputId": "de51621c-815b-4bfa-9406-085c76c9d55e"
      },
      "source": [
        "from sklearn.metrics import accuracy_score\n",
        "preds = clf.predict(X_test)\n",
        "print(\"Accuracy:\", accuracy_score(y_test,preds))"
      ],
      "execution_count": null,
      "outputs": [
        {
          "output_type": "stream",
          "text": [
            "Accuracy: 0.9157303370786517\n"
          ],
          "name": "stdout"
        }
      ]
    },
    {
      "cell_type": "code",
      "metadata": {
        "id": "8ZhDmx1Cd4m4",
        "outputId": "ecb72701-e231-4814-b611-99b3a366cf5a"
      },
      "source": [
        "from sklearn.metrics import f1_score\n",
        "f1_score(y_test, preds,average='weighted')"
      ],
      "execution_count": null,
      "outputs": [
        {
          "output_type": "execute_result",
          "data": {
            "text/plain": [
              "0.886190648785792"
            ]
          },
          "metadata": {
            "tags": []
          },
          "execution_count": 10
        }
      ]
    }
  ]
}