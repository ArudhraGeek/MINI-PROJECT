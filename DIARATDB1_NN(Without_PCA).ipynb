{
  "nbformat": 4,
  "nbformat_minor": 0,
  "metadata": {
    "kernelspec": {
      "display_name": "Python 3",
      "language": "python",
      "name": "python3"
    },
    "language_info": {
      "codemirror_mode": {
        "name": "ipython",
        "version": 3
      },
      "file_extension": ".py",
      "mimetype": "text/x-python",
      "name": "python",
      "nbconvert_exporter": "python",
      "pygments_lexer": "ipython3",
      "version": "3.8.3"
    },
    "colab": {
      "name": "DIARATDB1 NN(Without PCA).ipynb",
      "provenance": [],
      "include_colab_link": true
    }
  },
  "cells": [
    {
      "cell_type": "markdown",
      "metadata": {
        "id": "view-in-github",
        "colab_type": "text"
      },
      "source": [
        "<a href=\"https://colab.research.google.com/github/ArudhraGeek/MINI-PROJECT/blob/master/DIARATDB1_NN(Without_PCA).ipynb\" target=\"_parent\"><img src=\"https://colab.research.google.com/assets/colab-badge.svg\" alt=\"Open In Colab\"/></a>"
      ]
    },
    {
      "cell_type": "code",
      "metadata": {
        "id": "J2Iu0MKvXf2D"
      },
      "source": [
        "from keras.preprocessing.image import ImageDataGenerator, img_to_array\n",
        "from keras.optimizers import Adam\n",
        "from sklearn.preprocessing import LabelBinarizer\n",
        "from sklearn.model_selection import train_test_split\n",
        "from imutils import paths\n",
        "import numpy as np\n",
        "import os\n",
        "import cv2\n",
        "import random"
      ],
      "execution_count": null,
      "outputs": []
    },
    {
      "cell_type": "code",
      "metadata": {
        "id": "DpOGB5pRXf2H"
      },
      "source": [
        "rootpath = \"D:\\\\DirectDB patches new\""
      ],
      "execution_count": null,
      "outputs": []
    },
    {
      "cell_type": "code",
      "metadata": {
        "id": "EDfTZXBCXf2J"
      },
      "source": [
        "data = []                       \n",
        "classes = []                   \n",
        "imagepaths = sorted(list(paths.list_images(rootpath)))   \n",
        "random.seed(42)\n",
        "random.shuffle(imagepaths)\n",
        "for imgpath in imagepaths:\n",
        "    try:\n",
        "        image = cv2.imread(imgpath)\n",
        "        image_array = img_to_array(image)    \n",
        "        data.append(image_array)\n",
        "        label = imgpath.split(os.path.sep)[-2]\n",
        "        classes.append(label)\n",
        "    except Exception as e:\n",
        "        print(e)\n",
        "\n",
        "data = np.array(data,dtype='float')/255.0\n",
        "labels = np.array(classes)\n",
        "lb = LabelBinarizer()\n",
        "labels = lb.fit_transform(labels)"
      ],
      "execution_count": null,
      "outputs": []
    },
    {
      "cell_type": "code",
      "metadata": {
        "id": "N9v8SSXWXf2L",
        "outputId": "608febfa-a2aa-42d3-e0e4-0e60c30fd9ae"
      },
      "source": [
        "len(data)"
      ],
      "execution_count": null,
      "outputs": [
        {
          "output_type": "execute_result",
          "data": {
            "text/plain": [
              "1780"
            ]
          },
          "metadata": {
            "tags": []
          },
          "execution_count": 15
        }
      ]
    },
    {
      "cell_type": "code",
      "metadata": {
        "id": "xlnd6tNuXf2Q",
        "outputId": "fd2faa65-aeb5-45a9-87f4-1174a9e8c3f5"
      },
      "source": [
        "data=np.asarray(data)\n",
        "classes=np.asarray(labels)\n",
        "from sklearn.utils import shuffle\n",
        "Data,Label= shuffle(data,classes, random_state=2)\n",
        "train_data=[Data,Label]\n",
        "type(train_data)"
      ],
      "execution_count": null,
      "outputs": [
        {
          "output_type": "execute_result",
          "data": {
            "text/plain": [
              "list"
            ]
          },
          "metadata": {
            "tags": []
          },
          "execution_count": 16
        }
      ]
    },
    {
      "cell_type": "code",
      "metadata": {
        "id": "o4pL02_pXf2T"
      },
      "source": [
        "(X, y) = (train_data[0],train_data[1]) "
      ],
      "execution_count": null,
      "outputs": []
    },
    {
      "cell_type": "code",
      "metadata": {
        "id": "A1ft5pHbXf2V",
        "outputId": "0c7ce53a-70e1-4839-b385-1f8091d2136b"
      },
      "source": [
        "from sklearn.model_selection import train_test_split\n",
        "\n",
        "X_train, X_test, y_train, y_test = train_test_split(X, y, test_size=0.2, random_state=0)\n",
        "\n",
        "print(X_train.shape)\n",
        "print(X_test.shape)\n",
        "\n",
        "X_train = X_train.reshape(X_train.shape[0],3*400*400)\n",
        "X_test = X_test.reshape(X_test.shape[0],3*400*400)\n",
        "\n",
        "X_train = X_train.astype('float32')\n",
        "X_test = X_test.astype('float32')\n",
        "\n",
        "X_train /= 255\n",
        "X_test /= 255\n",
        "\n",
        "print('X_train shape:', X_train.shape)\n",
        "print(X_train.shape[0], 'train samples')\n",
        "print(X_test.shape[0], 'test samples')"
      ],
      "execution_count": null,
      "outputs": [
        {
          "output_type": "stream",
          "text": [
            "(1424, 400, 400, 3)\n",
            "(356, 400, 400, 3)\n",
            "X_train shape: (1424, 480000)\n",
            "1424 train samples\n",
            "356 test samples\n"
          ],
          "name": "stdout"
        }
      ]
    },
    {
      "cell_type": "code",
      "metadata": {
        "id": "eMw4U5HrXf2Y",
        "outputId": "3a2f5c11-3899-4cf9-c181-f57c6274c981"
      },
      "source": [
        "from sklearn.neural_network import MLPClassifier\n",
        "model = MLPClassifier(hidden_layer_sizes= 40)\n",
        "model.fit(X_train,y_train)"
      ],
      "execution_count": null,
      "outputs": [
        {
          "output_type": "stream",
          "text": [
            "D:\\anaconda\\lib\\site-packages\\sklearn\\utils\\validation.py:73: DataConversionWarning: A column-vector y was passed when a 1d array was expected. Please change the shape of y to (n_samples, ), for example using ravel().\n",
            "  return f(**kwargs)\n"
          ],
          "name": "stderr"
        },
        {
          "output_type": "execute_result",
          "data": {
            "text/plain": [
              "MLPClassifier(hidden_layer_sizes=40)"
            ]
          },
          "metadata": {
            "tags": []
          },
          "execution_count": 20
        }
      ]
    },
    {
      "cell_type": "code",
      "metadata": {
        "id": "ot-WMdzdXf2a"
      },
      "source": [
        "y_pred=model.predict(X_test)"
      ],
      "execution_count": null,
      "outputs": []
    },
    {
      "cell_type": "code",
      "metadata": {
        "id": "f2C8p0fNXf2c",
        "outputId": "9abebcd6-3f0f-4ae8-de7a-bf0e0a8195e3"
      },
      "source": [
        "from sklearn.metrics import accuracy_score,f1_score\n",
        "print(\"Accuracy:\",accuracy_score(y_test,y_pred))\n",
        "print(\"F-measure:\",f1_score(y_test,y_pred,average='weighted'))"
      ],
      "execution_count": null,
      "outputs": [
        {
          "output_type": "stream",
          "text": [
            "Accuracy: 0.9269662921348315\n",
            "F-measure: 0.8918334589052315\n"
          ],
          "name": "stdout"
        }
      ]
    }
  ]
}